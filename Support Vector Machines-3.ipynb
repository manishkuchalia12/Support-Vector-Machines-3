{
 "cells": [
  {
   "cell_type": "markdown",
   "id": "e63b6d03-f9a3-4a74-b953-013615567256",
   "metadata": {},
   "source": [
    "Q1. In order to predict house price based on several characteristics, such as location, square footage, \n",
    "number of bedrooms, etc., you are developing an SVM regression model. Which regression metric in this \n",
    "situation would be the best to employ?\n",
    "Ans:-In the context of predicting house prices using an SVM regression model, several regression metrics can be employed to evaluate the model's performance. The choice of metric depends on the specific goals and requirements of the problem. Here are some commonly used regression metrics:\n",
    "\n",
    "Mean Absolute Error (MAE):\n",
    "\n",
    "Interpretation: The average absolute difference between predicted and actual values.\n",
    "Advantages: Easy to interpret, not sensitive to outliers.\n",
    "Consideration: Useful when the absolute error is important, but it doesn't penalize large errors as much.\n",
    "Mean Squared Error (MSE):\n",
    "\n",
    "Interpretation: The average squared difference between predicted and actual values.\n",
    "Advantages: Emphasizes larger errors, differentiable and suitable for optimization.\n",
    "Consideration: Sensitive to outliers due to squaring.\n",
    "Root Mean Squared Error (RMSE):\n",
    "\n",
    "Interpretation: The square root of MSE, providing results in the same units as the target variable.\n",
    "Advantages: Same advantages as MSE but more interpretable.\n",
    "Consideration: Sensitive to outliers due to squaring.\n",
    "R-squared (R²) Score:\n",
    "\n",
    "Interpretation: Represents the proportion of the variance in the dependent variable that is predictable from the independent variables.\n",
    "Advantages: Provides a measure of goodness of fit, ranges from 0 to 1 (higher is better).\n",
    "Consideration: Doesn't penalize for predicting values far from the actual values.\n",
    "Explained Variance Score:\n",
    "\n",
    "Interpretation: Measures the proportion by which the model's variance explains the dataset's variance.\n",
    "Advantages: Similar to R² but more intuitive, ranges from 0 to 1 (higher is better).\n",
    "Consideration: Sensitive to the scale of the data.\n"
   ]
  },
  {
   "cell_type": "code",
   "execution_count": null,
   "id": "31b17908-9d8d-47c5-a991-a847208ed452",
   "metadata": {},
   "outputs": [],
   "source": [
    "from sklearn.metrics import mean_absolute_error, mean_squared_error, r2_score, explained_variance_score\n",
    "\n",
    "# Assuming y_true and y_pred are your true and predicted values\n",
    "mae = mean_absolute_error(y_true, y_pred)\n",
    "mse = mean_squared_error(y_true, y_pred)\n",
    "rmse = np.sqrt(mse)\n",
    "r2 = r2_score(y_true, y_pred)\n",
    "explained_variance = explained_variance_score(y_true, y_pred)\n",
    "\n",
    "print(f\"Mean Absolute Error: {mae}\")\n",
    "print(f\"Mean Squared Error: {mse}\")\n",
    "print(f\"Root Mean Squared Error: {rmse}\")\n",
    "print(f\"R-squared (R²) Score: {r2}\")\n",
    "print(f\"Explained Variance Score: {explained_variance}\")\n"
   ]
  },
  {
   "cell_type": "markdown",
   "id": "ea165024-6892-4de1-9ef2-d588d77c0368",
   "metadata": {},
   "source": [
    "\n",
    "Q2. You have built an SVM regression model and are trying to decide between using MSE or R-squared as \n",
    "your evaluation metric. Which metric would be more appropriate if your goal is to predict the actual price \n",
    "of a house as accurately as possible?\n",
    "\n",
    "Ans:-If your goal is to predict the actual price of a house as accurately as possible, the Mean Squared Error (MSE) would be a more appropriate evaluation metric. MSE is a common regression metric that measures the average squared difference between predicted and actual values. It places more emphasis on larger errors, making it suitable for scenarios where you want to penalize larger prediction errors.\r\n",
    "\r\n",
    "Here's why MSE is more appropriate for predicting house prices accurately:\r\n",
    "\r\n",
    "Emphasis on Larger Errors:\r\n",
    "\r\n",
    "MSE penalizes larger errors more heavily due to the squaring operation.\r\n",
    "For predicting house prices, you typically want to minimize errors across the entire range of prices, and MSE ensures that larger errors have a more significant impact on the overall metric.\r\n",
    "Continuous and Numerical Nature:\r\n",
    "\r\n",
    "House prices are continuous and numerical values.\r\n",
    "MSE is well-suited for numerical predictions as it directly measures the average squared difference, providing a clear indication of the magnitude of errors.\r\n",
    "Optimization Perspective:\r\n",
    "\r\n",
    "When training an SVM regression model, you often use optimization algorithms that aim to minimize a loss function.\r\n",
    "MSE is a differentiable and smooth loss function, making it suitable for optimization.\r\n",
    "While R-squared (R²) is another common regression metric, it may not be as suitable when the primary goal is to minimize prediction errors for continuous numerical values like house prices. R² measures the proportion of the variance in the dependent variable that is predictable from the independent variables, but it may not penalize larger errors as effectively as MSE."
   ]
  },
  {
   "cell_type": "markdown",
   "id": "a07baa5e-1ddf-460f-beb7-60011d4cfb39",
   "metadata": {},
   "source": [
    "Q4. You have built an SVM regression model using a polynomial kernel and are trying to select the best \n",
    "metric to evaluate its performance. You have calculated both MSE and RMSE and found that both values \n",
    "are very close. Which metric should you choose to use in this case?"
   ]
  },
  {
   "cell_type": "code",
   "execution_count": null,
   "id": "130e1819-d760-4dda-989f-5d394db3e1c0",
   "metadata": {},
   "outputs": [],
   "source": [
    "Ans:-When both Mean Squared Error (MSE) and Root Mean Squared Error (RMSE) are very close for evaluating the performance of an SVM regression model with a polynomial kernel, it is generally advisable to choose the RMSE as the preferred metric. The primary reason for this choice is related to the interpretability and scale of the two metrics.\n",
    "\n",
    "Here's why you might prefer RMSE over MSE in this case:\n",
    "\n",
    "Scale Interpretability:\n",
    "\n",
    "MSE: The MSE is calculated by taking the average of squared errors. Its unit is the square of the original target variable's unit, which may not be directly interpretable.\n",
    "RMSE: By taking the square root of MSE, RMSE has the same unit as the original target variable, making it more interpretable and easier to relate to the scale of the problem.\n",
    "Direct Comparison with Original Values:\n",
    "\n",
    "RMSE: Provides a direct measure of the average absolute difference between predicted and actual values in the same unit as the target variable.\n",
    "MSE: The squared nature of MSE might make it harder to interpret in the context of the original data.\n",
    "Sensitivity to Outliers:\n",
    "\n",
    "RMSE: Being the square root of MSE, RMSE places more emphasis on larger errors, making it slightly more sensitive to outliers.\n",
    "MSE: Treats all errors equally in terms of magnitude."
   ]
  },
  {
   "cell_type": "code",
   "execution_count": null,
   "id": "a2ff9e14-a817-4a13-9967-396358200ef6",
   "metadata": {},
   "outputs": [],
   "source": [
    "Q5. You are comparing the performance of different SVM regression models using different kernels (linear, \n",
    "polynomial, and RBF) and are trying to select the best evaluation metric. Which metric would be most \n",
    "appropriate if your goal is to measure how well the model explains the variance in the target variable?\n",
    "https://drive.google.com/file/d/1Z9oLpmt6IDRNw7IeNcHYTGeJRYypRSC0/view?\n",
    "usp=share_link"
   ]
  },
  {
   "cell_type": "code",
   "execution_count": null,
   "id": "f940bba6-c994-40b3-895e-fc6706e69831",
   "metadata": {},
   "outputs": [],
   "source": [
    "from sklearn.metrics import explained_variance_score\n",
    "\n",
    "# Assuming y_true and y_pred are your true and predicted values for each SVM model\n",
    "explained_variance_linear = explained_variance_score(y_true_linear, y_pred_linear)\n",
    "explained_variance_poly = explained_variance_score(y_true_poly, y_pred_poly)\n",
    "explained_variance_rbf = explained_variance_score(y_true_rbf, y_pred_rbf)\n",
    "\n",
    "print(f\"Explained Variance (Linear Kernel): {explained_variance_linear}\")\n",
    "print(f\"Explained Variance (Polynomial Kernel): {explained_variance_poly}\")\n",
    "print(f\"Explained Variance (RBF Kernel): {explained_variance_rbf}\")\n"
   ]
  },
  {
   "cell_type": "code",
   "execution_count": null,
   "id": "ea30c7e8-0816-4540-a9b2-2cb9b709bad9",
   "metadata": {},
   "outputs": [],
   "source": [
    "from sklearn.metrics import explained_variance_score\n",
    "\n",
    "# Assuming y_true and y_pred are your true and predicted values for each SVM model\n",
    "explained_variance_linear = explained_variance_score(y_true_linear, y_pred_linear)\n",
    "explained_variance_poly = explained_variance_score(y_true_poly, y_pred_poly)\n",
    "explained_variance_rbf = explained_variance_score(y_true_rbf, y_pred_rbf)\n",
    "\n",
    "print(f\"Explained Variance (Linear Kernel): {explained_variance_linear}\")\n",
    "print(f\"Explained Variance (Polynomial Kernel): {explained_variance_poly}\")\n",
    "print(f\"Explained Variance (RBF Kernel): {explained_variance_rbf}\")\n"
   ]
  },
  {
   "cell_type": "markdown",
   "id": "2ec0137b-1e2d-43e4-abcb-9de98cf671ca",
   "metadata": {},
   "source": [
    "Q3. You have a dataset with a significant number of outliers and are trying to select an appropriate \n",
    "regression metric to use with your SVM model. Which metric would be the most appropriate in this \n",
    "scenario?\n",
    "\n"
   ]
  }
 ],
 "metadata": {
  "kernelspec": {
   "display_name": "Python 3 (ipykernel)",
   "language": "python",
   "name": "python3"
  },
  "language_info": {
   "codemirror_mode": {
    "name": "ipython",
    "version": 3
   },
   "file_extension": ".py",
   "mimetype": "text/x-python",
   "name": "python",
   "nbconvert_exporter": "python",
   "pygments_lexer": "ipython3",
   "version": "3.12.0"
  }
 },
 "nbformat": 4,
 "nbformat_minor": 5
}
